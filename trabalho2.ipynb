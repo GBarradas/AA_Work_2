{
 "cells": [
  {
   "cell_type": "markdown",
   "metadata": {},
   "source": [
    "# Teste para a escolha do algoritmo em AA\n"
   ]
  },
  {
   "cell_type": "markdown",
   "metadata": {},
   "source": [
    "## Metodo K-Vizinhos"
   ]
  },
  {
   "cell_type": "code",
   "execution_count": 1,
   "metadata": {},
   "outputs": [],
   "source": [
    "class modelo:\n",
    "    @classmethod\n",
    "    def predict(cls, xTeste):\n",
    "       fileContent = pd.read_csv(fileName)\n",
    "       X = fileContent.drop('Failure',axis='columns')\n",
    "       y = fileContent['Failure']\n",
    "       cls = KNeighborsClassifier(n_neighbors=5)\n",
    "       cls.fit(X,y)\n",
    "       return cls.predict(xTeste)"
   ]
  },
  {
   "cell_type": "markdown",
   "metadata": {},
   "source": [
    "Resultados obtidos para vizinhos\n",
    "\n",
    "\n",
    "|Nº Vizinhos|Cobertura|Precisão|\n",
    "|:---------:|:-------:|:------:|\n",
    "|1|0.80|0.85|\n",
    "|3|0.76|0.86|\n",
    "|5|0.69|0.82|\n",
    "|10|0.44|0.87|\n",
    "|15|0.40|0.8|\n",
    "|20|0.33|0.80|  \n",
    "    \n",
    "    \n",
    "    "
   ]
  },
  {
   "cell_type": "markdown",
   "metadata": {},
   "source": [
    "## Metodo Naive Bayes"
   ]
  },
  {
   "cell_type": "code",
   "execution_count": 2,
   "metadata": {},
   "outputs": [],
   "source": [
    "class modelo2:\n",
    "    @classmethod\n",
    "    def predict(clscls, xTeste):\n",
    "        fileContent = pd.read_csv(fileName)\n",
    "        X = fileContent.drop('Failure', axis='columns')\n",
    "        y = fileContent['Failure']\n",
    "        cls = GaussianNB()\n",
    "        cls.fit(X,y)\n",
    "        return cls.predict(xTeste)"
   ]
  },
  {
   "cell_type": "markdown",
   "metadata": {},
   "source": [
    "Resultados obtidos:  \n",
    "- **Cobertura**: 0.96  \n",
    "- **Previsão**: 0.30"
   ]
  },
  {
   "cell_type": "markdown",
   "metadata": {},
   "source": [
    "## Metodo Decision Tree"
   ]
  },
  {
   "cell_type": "code",
   "execution_count": null,
   "metadata": {},
   "outputs": [],
   "source": [
    "class modelo3:\n",
    "    @classmethod\n",
    "    def predict(cls,xTeste):\n",
    "        fileContent = pd.read_csv(fileName)\n",
    "        X = fileContent.drop('Failure', axis='columns')\n",
    "        y = fileContent['Failure']\n",
    "        clf = DecisionTreeClassifier()\n",
    "        clf.fit(X,y)\n",
    "        return clf.predict(xTeste)"
   ]
  },
  {
   "cell_type": "markdown",
   "metadata": {},
   "source": [
    "Resultados Obtidos:\n",
    "- **Cobertura**: 0.94  \n",
    "- **Previsão**: 0.92  \n"
   ]
  },
  {
   "cell_type": "markdown",
   "metadata": {},
   "source": [
    "## Metodo k-folds  "
   ]
  },
  {
   "cell_type": "code",
   "execution_count": 3,
   "metadata": {},
   "outputs": [],
   "source": [
    "class modelo4:\n",
    "    @classmethod\n",
    "    def predict(cls, xTeste):\n",
    "        fileContent = pd.read_csv(fileName)\n",
    "        X = fileContent.drop('Failure', axis='columns')\n",
    "        y = fileContent['Failure']\n",
    "        clf = BaggingClassifier()\n",
    "        clf.fit(X,y)\n",
    "        return clf.predict(xTeste)"
   ]
  },
  {
   "cell_type": "markdown",
   "metadata": {},
   "source": [
    "Resultados Obtidos:\n",
    "- **Cobertura**: 0.89\n",
    "- **Previsão**: 0.98  \n"
   ]
  },
  {
   "cell_type": "markdown",
   "metadata": {},
   "source": [
    "## Metodo Random Forest"
   ]
  },
  {
   "cell_type": "code",
   "execution_count": 4,
   "metadata": {},
   "outputs": [],
   "source": [
    "class modelo5:\n",
    "    @classmethod\n",
    "    def predict(cls, xTeste):\n",
    "        fileContent = pd.read_csv(fileName)\n",
    "        X = fileContent.drop('Failure', axis='columns')\n",
    "        y = fileContent['Failure']\n",
    "        clf = RandomForestClassifier()\n",
    "        clf.fit(X,y)\n",
    "        return clf.predict(xTeste)"
   ]
  },
  {
   "cell_type": "markdown",
   "metadata": {},
   "source": [
    "Resultados Obtidos:\n",
    "- **Cobertura**: 0.87\n",
    "- **Previsão**: 0.98  \n"
   ]
  },
  {
   "cell_type": "markdown",
   "metadata": {},
   "source": [
    "## Metodo Extra Trees"
   ]
  },
  {
   "cell_type": "code",
   "execution_count": 5,
   "metadata": {},
   "outputs": [],
   "source": [
    "class modelo6:\n",
    "    @classmethod\n",
    "    def predict(cls, xTeste):\n",
    "        fileContent = pd.read_csv(fileName)\n",
    "        X = fileContent.drop('Failure', axis='columns')\n",
    "        y = fileContent['Failure']\n",
    "        clf = ExtraTreeClassifier()\n",
    "        clf.fit(X,y)\n",
    "        return clf.predict(xTeste)"
   ]
  },
  {
   "cell_type": "markdown",
   "metadata": {},
   "source": [
    "Resultados Obtidos:\n",
    "- **Cobertura**: 0.87\n",
    "- **Previsão**: 0.84 "
   ]
  },
  {
   "cell_type": "markdown",
   "metadata": {},
   "source": [
    "## Metodo Gradient Boosting Classifier"
   ]
  },
  {
   "cell_type": "code",
   "execution_count": 6,
   "metadata": {},
   "outputs": [],
   "source": [
    "class modelo7:\n",
    "    @classmethod\n",
    "    def predict(cls, xTeste):\n",
    "        fileContent = pd.read_csv(fileName)\n",
    "        X = fileContent.drop('Failure', axis='columns')\n",
    "        y = fileContent['Failure']\n",
    "        clf = GradientBoostingClassifier()\n",
    "        clf.fit(X,y)\n",
    "        return clf.predict(xTeste)"
   ]
  },
  {
   "cell_type": "markdown",
   "metadata": {},
   "source": [
    "Resultados Obtidos:\n",
    "- **Cobertura**: 0.91\n",
    "- **Previsão**: 0.98 "
   ]
  }
 ],
 "metadata": {
  "kernelspec": {
   "display_name": "Python 3 (ipykernel)",
   "language": "python",
   "name": "python3"
  },
  "language_info": {
   "codemirror_mode": {
    "name": "ipython",
    "version": 3
   },
   "file_extension": ".py",
   "mimetype": "text/x-python",
   "name": "python",
   "nbconvert_exporter": "python",
   "pygments_lexer": "ipython3",
   "version": "3.10.6"
  }
 },
 "nbformat": 4,
 "nbformat_minor": 1
}
